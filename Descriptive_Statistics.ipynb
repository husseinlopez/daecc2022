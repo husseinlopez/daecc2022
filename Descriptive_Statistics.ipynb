{
 "cells": [
  {
   "cell_type": "code",
   "execution_count": 3,
   "id": "06f330de-46c5-401d-bafc-e29eebcfb88f",
   "metadata": {
    "tags": []
   },
   "outputs": [
    {
     "name": "stdout",
     "output_type": "stream",
     "text": [
      "\n",
      "\tShapiro-Wilk normality test\n",
      "\n",
      "data:  x\n",
      "W = 0.98908, p-value = 0.5911\n",
      "\n"
     ]
    }
   ],
   "source": [
    "set.seed(10)\n",
    "x <- rnorm(100) \n",
    "x.test <- shapiro.test(x)\n",
    "print(x.test)"
   ]
  },
  {
   "cell_type": "code",
   "execution_count": 2,
   "id": "06396686-c358-4e8f-b5e9-b9ad34751457",
   "metadata": {},
   "outputs": [
    {
     "name": "stdout",
     "output_type": "stream",
     "text": [
      "\n",
      "\tShapiro-Wilk normality test\n",
      "\n",
      "data:  x2\n",
      "W = 0.92848, p-value = 4.082e-05\n",
      "\n"
     ]
    }
   ],
   "source": [
    "x2 <- runif(100) \n",
    "x2.test <- shapiro.test(x2)\n",
    "print(x2.test)"
   ]
  },
  {
   "cell_type": "code",
   "execution_count": null,
   "id": "a748bedc-d19a-4256-8279-c822d2546aeb",
   "metadata": {},
   "outputs": [],
   "source": []
  }
 ],
 "metadata": {
  "kernelspec": {
   "display_name": "R",
   "language": "R",
   "name": "ir"
  },
  "language_info": {
   "codemirror_mode": "r",
   "file_extension": ".r",
   "mimetype": "text/x-r-source",
   "name": "R",
   "pygments_lexer": "r",
   "version": "3.6.3"
  }
 },
 "nbformat": 4,
 "nbformat_minor": 5
}
